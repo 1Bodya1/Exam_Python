{
 "cells": [
  {
   "cell_type": "code",
   "execution_count": 36,
   "metadata": {},
   "outputs": [
    {
     "name": "stdout",
     "output_type": "stream",
     "text": [
      "Mona Lisa by Leonardo da Vinci, Renaissance, 1503\n",
      "The Starry Night by Vincent van Gogh, Post-Impressionism, 1889\n"
     ]
    },
    {
     "data": {
      "text/plain": [
       "[<__main__.Painting at 0x271224a53d0>]"
      ]
     },
     "execution_count": 36,
     "metadata": {},
     "output_type": "execute_result"
    }
   ],
   "source": [
    "class Painting:\n",
    "    def __init__(self, title, artist, genre, year):\n",
    "        self.title = title\n",
    "        self.artist = artist\n",
    "        self.genre = genre\n",
    "        self.year = year\n",
    "\n",
    "    def __str__(self):\n",
    "        return f\"{self.title} by {self.artist}, {self.genre}, {self.year}\"\n",
    "\n",
    "\n",
    "class PaintingBuilder:\n",
    "    def __init__(self):\n",
    "        self.title = None\n",
    "        self.artist = None\n",
    "        self.genre = None\n",
    "        self.year = None\n",
    "\n",
    "    def with_title(self, title):\n",
    "        self.title = title\n",
    "        return self\n",
    "\n",
    "    def with_artist(self, artist):\n",
    "        self.artist = artist\n",
    "        return self\n",
    "\n",
    "    def with_genre(self, genre):\n",
    "        self.genre = genre\n",
    "        return self\n",
    "\n",
    "    def with_year(self, year):\n",
    "        self.year = year\n",
    "        return self\n",
    "\n",
    "    def build(self):\n",
    "        if not all([self.title, self.artist, self.genre, self.year]):\n",
    "            raise ValueError(\"All fields (title, artist, genre, year) must be provided\")\n",
    "        return Painting(self.title, self.artist, self.genre, self.year)\n",
    "\n",
    "\n",
    "class ArtGallery:\n",
    "    def __init__(self):\n",
    "        self.collection = []\n",
    "\n",
    "    def add_painting(self, painting):\n",
    "        self.collection.append(painting)\n",
    "\n",
    "    def find_paintings(self, **criteria):\n",
    "        results = self.collection\n",
    "        for key, value in criteria.items():\n",
    "            if key not in [\"title\", \"artist\", \"genre\", \"year\"]:\n",
    "                raise ValueError(f\"Invalid search criterion: {key}\")\n",
    "            results = [painting for painting in results if getattr(painting, key) == value]\n",
    "        return results\n",
    "\n",
    "    def show_collection(self):\n",
    "        for painting in self.collection:\n",
    "            print(painting)\n",
    "\n",
    "\n",
    "gallery = ArtGallery()\n",
    "\n",
    "painting1 = PaintingBuilder().with_title(\"Mona Lisa\").with_artist(\"Leonardo da Vinci\").with_genre(\"Renaissance\").with_year(1503).build()\n",
    "painting2 = PaintingBuilder().with_title(\"The Starry Night\").with_artist(\"Vincent van Gogh\").with_genre(\"Post-Impressionism\").with_year(1889).build()\n",
    "\n",
    "gallery.add_painting(painting1)\n",
    "gallery.add_painting(painting2)\n",
    "\n",
    "gallery.show_collection()\n",
    "\n",
    "vangogh_paintings = gallery.find_paintings(artist=\"Vincent van Gogh\")\n",
    "vangogh_paintings\n"
   ]
  }
 ],
 "metadata": {
  "kernelspec": {
   "display_name": "Python 3",
   "language": "python",
   "name": "python3"
  },
  "language_info": {
   "codemirror_mode": {
    "name": "ipython",
    "version": 3
   },
   "file_extension": ".py",
   "mimetype": "text/x-python",
   "name": "python",
   "nbconvert_exporter": "python",
   "pygments_lexer": "ipython3",
   "version": "3.11.2"
  }
 },
 "nbformat": 4,
 "nbformat_minor": 2
}
